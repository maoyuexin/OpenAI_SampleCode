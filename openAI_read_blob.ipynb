{
  "cells": [
    {
      "cell_type": "code",
      "source": [
        "import openai\n",
        "import re\n",
        "import requests\n",
        "import sys\n",
        "from num2words import num2words\n",
        "from pdfminer.high_level import extract_text\n",
        "import os\n",
        "import pandas as pd\n",
        "import numpy as np\n",
        "\n",
        "#API_KEY = # SET YOUR OWN API KEY HERE\n",
        " \n",
        "\n",
        "openai.api_type = \"azure\"\n",
        "openai.api_base = \"<ADD Base URL>\"\n",
        "openai.api_version = \"2022-12-01\"\n",
        "openai.api_key = '<ADD OpenAI API key>'\n",
        "\n",
        "GPT_ENGINE = '<ADD Open AI model deployment name>'"
      ],
      "outputs": [],
      "execution_count": 26,
      "metadata": {
        "gather": {
          "logged": 1679446589194
        }
      }
    },
    {
      "cell_type": "code",
      "source": [
        "from PyPDF2 import PdfReader\r\n",
        "import os\r\n",
        " \r\n",
        "\r\n",
        "filename =f\"<ADD file name>\"\r\n",
        "\r\n",
        "reader = PdfReader(filename)\r\n",
        "pages = reader.pages\r\n",
        "\r\n",
        "article = []\r\n",
        "for ind, page in enumerate(pages):\r\n",
        "    text = page.extract_text()\r\n",
        "    article.append(text)\r\n",
        "\r\n",
        "prompt = \" \".join(article)"
      ],
      "outputs": [],
      "execution_count": 143,
      "metadata": {
        "jupyter": {
          "source_hidden": false,
          "outputs_hidden": false
        },
        "nteract": {
          "transient": {
            "deleting": false
          }
        },
        "gather": {
          "logged": 1679448641229
        }
      }
    },
    {
      "cell_type": "code",
      "source": [
        " \n",
        "response = openai.Completion.create(\n",
        "  engine=GPT_ENGINE,\n",
        "  prompt= prompt,\n",
        "  temperature=0.9,\n",
        "  max_tokens=600,\n",
        "  top_p=1,\n",
        "  frequency_penalty=0,\n",
        "  presence_penalty=0,\n",
        "  best_of=1,\n",
        "  stop=None)\n",
        "\n",
        "rst = response['choices'][0]['text']"
      ],
      "outputs": [],
      "execution_count": 152,
      "metadata": {
        "gather": {
          "logged": 1679448701131
        }
      }
    },
    {
      "cell_type": "code",
      "source": [
        "rst = rst.replace('\\n', '')"
      ],
      "outputs": [],
      "execution_count": 153,
      "metadata": {
        "jupyter": {
          "source_hidden": false,
          "outputs_hidden": false
        },
        "nteract": {
          "transient": {
            "deleting": false
          }
        },
        "gather": {
          "logged": 1679448701362
        }
      }
    },
    {
      "cell_type": "markdown",
      "source": [
        "###  Get File from Blob File"
      ],
      "metadata": {
        "nteract": {
          "transient": {
            "deleting": false
          }
        }
      }
    },
    {
      "cell_type": "code",
      "source": [
        "from azure.storage.blob import BlobServiceClient, BlobClient, ContainerClient, __version__\r\n",
        "\r\n",
        "connection_string = \"<Add the Connection String>\"\r\n",
        "blob_svc = BlobServiceClient.from_connection_string(conn_str=connection_string)\r\n",
        "container_name = '<Add the Blob container Name>'\r\n",
        "\r\n",
        "container_client = blob_svc.get_container_client(container_name)"
      ],
      "outputs": [],
      "execution_count": 177,
      "metadata": {
        "jupyter": {
          "source_hidden": false,
          "outputs_hidden": false
        },
        "nteract": {
          "transient": {
            "deleting": false
          }
        },
        "gather": {
          "logged": 1679500028269
        }
      }
    },
    {
      "cell_type": "code",
      "source": [
        "blob_name = \"<Add the Blob Name>\"  ## file name of the pdf \r\n",
        "blob_client = container_client.get_blob_client(blob_name)\r\n",
        "\r\n",
        "download_stream = blob_client.download_blob()"
      ],
      "outputs": [],
      "execution_count": 178,
      "metadata": {
        "jupyter": {
          "source_hidden": false,
          "outputs_hidden": false
        },
        "nteract": {
          "transient": {
            "deleting": false
          }
        },
        "gather": {
          "logged": 1679500034406
        }
      }
    },
    {
      "cell_type": "markdown",
      "source": [
        "### Read pdf file in Stream and Convert it to String"
      ],
      "metadata": {
        "nteract": {
          "transient": {
            "deleting": false
          }
        }
      }
    },
    {
      "cell_type": "code",
      "source": [
        "from io import BytesIO\r\n",
        "blob_to_read = BytesIO(download_stream.readall())\r\n",
        "import PyPDF2\r\n",
        "fileReader = PyPDF2.PdfReader(blob_to_read)\r\n",
        "pages = fileReader.pages\r\n",
        "\r\n",
        "\r\n",
        "article = []\r\n",
        "for ind, page in enumerate(pages):\r\n",
        "    text = page.extract_text()\r\n",
        "    article.append(text)\r\n",
        "\r\n",
        "prompt = \" \".join(article)"
      ],
      "outputs": [],
      "execution_count": 188,
      "metadata": {
        "jupyter": {
          "source_hidden": false,
          "outputs_hidden": false
        },
        "nteract": {
          "transient": {
            "deleting": false
          }
        },
        "gather": {
          "logged": 1679500229485
        }
      }
    },
    {
      "cell_type": "code",
      "source": [
        "def recognize_entities(prompt, engine=GPT_ENGINE):\n",
        "    \"\"\"Recognize entities in text using OpenAI's text classification API.\"\"\"\n",
        "    response = openai.Completion.create(\n",
        "        engine=engine,\n",
        "        prompt=prompt,\n",
        "        temperature=0.8,\n",
        "        max_tokens=100,\n",
        "    )\n",
        "    return response.choices[0].text"
      ],
      "outputs": [],
      "execution_count": 15,
      "metadata": {}
    },
    {
      "cell_type": "code",
      "source": [
        "def splitter(n, s):\n",
        "    pieces = s.split()\n",
        "    list_out = [\" \".join(pieces[i:i+n]) for i in range(0, len(pieces), n)]\n",
        "    return list_out\n",
        "\n",
        "def normalize_text(s, sep_token = \" \\n \"):\n",
        "    s = re.sub(r'\\s+',  ' ', s).strip()\n",
        "    s = re.sub(r\". ,\",\"\",s)\n",
        "    # remove all instances of multiple spaces\n",
        "    s = s.replace(\"..\",\".\")\n",
        "    s = s.replace(\". .\",\".\")\n",
        "    s = s.replace(\"\\n\", \"\")\n",
        "    s = s.strip()\n",
        "    \n",
        "    return s\n",
        "\n",
        "def trim_incomplete(t):\n",
        "    if t.endswith('.'):\n",
        "        if not re.search('[a-z]\\.$',t):\n",
        "            t = t[:-1]\n",
        "\n",
        "    if not t.endswith('.'):\n",
        "        t = t.rsplit('. ', 1)[:-1]\n",
        "        t = \"\".join(t)+'.'\n",
        "    \n",
        "    t = t.strip()\n",
        "    return t"
      ],
      "outputs": [],
      "execution_count": 22,
      "metadata": {}
    }
  ],
  "metadata": {
    "kernelspec": {
      "name": "python38-azureml",
      "language": "python",
      "display_name": "Python 3.8 - AzureML"
    },
    "language_info": {
      "name": "python",
      "version": "3.8.5",
      "mimetype": "text/x-python",
      "codemirror_mode": {
        "name": "ipython",
        "version": 3
      },
      "pygments_lexer": "ipython3",
      "nbconvert_exporter": "python",
      "file_extension": ".py"
    },
    "orig_nbformat": 4,
    "vscode": {
      "interpreter": {
        "hash": "6d65a8c07f5b6469e0fc613f182488c0dccce05038bbda39e5ac9075c0454d11"
      }
    },
    "microsoft": {
      "ms_spell_check": {
        "ms_spell_check_language": "en"
      }
    },
    "kernel_info": {
      "name": "python38-azureml"
    },
    "nteract": {
      "version": "nteract-front-end@1.0.0"
    }
  },
  "nbformat": 4,
  "nbformat_minor": 2
}